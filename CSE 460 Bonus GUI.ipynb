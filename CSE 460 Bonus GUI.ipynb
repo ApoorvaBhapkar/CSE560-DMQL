{
 "cells": [
  {
   "cell_type": "code",
   "execution_count": null,
   "id": "fbaed1e8",
   "metadata": {},
   "outputs": [],
   "source": [
    "from tkinter import *\n",
    "from tkinter import ttk\n",
    "import psycopg2 as ps\n",
    "import pandas as pd\n",
    "\n",
    "#Connect using postgresql\n",
    "connection = ps.connect(\n",
    "    host=\"localhost\",\n",
    "    port=\"5432\",\n",
    "    password='testing',\n",
    "    dbname=\"London_Airbnb\",\n",
    "    user=\"postgres\")\n",
    "\n",
    "window = Tk()\n",
    "window.title(\"London Airbnb GUI\")\n",
    "#window.geometry(\"1000x1000\")\n",
    "some_name = Label(text=\"Query:\").pack()\n",
    "query_var = StringVar(window)\n",
    "query_entry = Entry(bg=\"black\", textvariable=query_var).pack(fill=X, padx=50)\n",
    "exit_button = Button(text='Exit', bd='2', command=window.destroy).pack(side=\"right\")\n",
    "\n",
    "def get_dataframe():\n",
    "    \n",
    "    df = pd.read_sql_query(query_var.get(), con=connection)\n",
    "    columns = list(df)\n",
    "    tree = ttk.Treeview(window, show='headings')\n",
    "    tree['columns'] = tuple([i for i in range(len(columns))])\n",
    "\n",
    "    for i in range(len(columns)):\n",
    "        tree.heading(i, text=columns[i])\n",
    "        \n",
    "    for row in df.itertuples(index=False):\n",
    "        tree.insert('', 'end', values=(row[:]))\n",
    "   \n",
    "    tree.pack()\n",
    "    \n",
    "submit_button = Button(text='Submit', bd='2', command=get_dataframe).pack(side=\"right\")\n",
    "\n",
    "window.mainloop()"
   ]
  },
  {
   "cell_type": "code",
   "execution_count": null,
   "id": "8a088022",
   "metadata": {},
   "outputs": [],
   "source": [
    "#REFERENCES\n",
    "\n",
    "#https://tk-tutorial.readthedocs.io/en/latest/intro/intro.html\n",
    "#https://pandas.pydata.org/pandas-docs/stable/reference/frame.html\n",
    "#https://blog.jetbrains.com/datalore/2022/02/14/how-to-run-sql-from-jupyter-notebook-two-easy-ways/"
   ]
  }
 ],
 "metadata": {
  "kernelspec": {
   "display_name": "Python 3 (ipykernel)",
   "language": "python",
   "name": "python3"
  },
  "language_info": {
   "codemirror_mode": {
    "name": "ipython",
    "version": 3
   },
   "file_extension": ".py",
   "mimetype": "text/x-python",
   "name": "python",
   "nbconvert_exporter": "python",
   "pygments_lexer": "ipython3",
   "version": "3.10.2"
  }
 },
 "nbformat": 4,
 "nbformat_minor": 5
}
